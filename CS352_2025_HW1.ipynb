{
  "cells": [
    {
      "cell_type": "markdown",
      "metadata": {
        "id": "view-in-github",
        "colab_type": "text"
      },
      "source": [
        "<a href=\"https://colab.research.google.com/github/AGanguly13/AGanguly13/blob/main/CS352_2025_HW1.ipynb\" target=\"_parent\"><img src=\"https://colab.research.google.com/assets/colab-badge.svg\" alt=\"Open In Colab\"/></a>"
      ]
    },
    {
      "cell_type": "markdown",
      "metadata": {
        "id": "KugD07jEvsyP",
        "nbgrader": {
          "grade": false,
          "grade_id": "cell-07683527464333de",
          "locked": true,
          "schema_version": 1,
          "solution": false
        }
      },
      "source": [
        "Homework 1 — (20 points)\n",
        "======\n",
        "### What to hand in\n",
        "1. A Jupyter notebook containing all code and output (figures and audio). We should be able to evaluate the file to reproduce all output.\n",
        "1. Any other data that we tell you to save to a file (e.g. audio files).\n",
        "\n",
        "### How to hand it in\n",
        "1. Compress all of the files specified into a .zip file.\n",
        "1. Name the file in the following manner, firstname_lastname_hw1.zip. For example, Bryan_Pardo_hw1.zip.\n",
        "1. Submit this .zip file via Canvas"
      ]
    },
    {
      "cell_type": "markdown",
      "metadata": {
        "id": "DSt4w3BdvsyW",
        "nbgrader": {
          "grade": false,
          "grade_id": "cell-776ee25997ea8a12",
          "locked": true,
          "schema_version": 1,
          "solution": false
        }
      },
      "source": [
        "#### Run this code block 1st, to import likely needed packages"
      ]
    },
    {
      "cell_type": "code",
      "execution_count": 5,
      "metadata": {
        "id": "G1pTELSAvsyX",
        "nbgrader": {
          "grade": false,
          "grade_id": "cell-67643ce7418809d1",
          "locked": true,
          "schema_version": 1,
          "solution": false
        }
      },
      "outputs": [],
      "source": [
        "# This line imports most packages you'll need. You may need to import others (eg random and cmath)\n",
        "import IPython, numpy as np, scipy as sp, matplotlib.pyplot as plt, matplotlib, sklearn, librosa, cmath,math\n",
        "from IPython.display import Audio\n",
        "\n",
        "# This line makes sure your plots happen IN the webpage you're building, instead of in separate windows.\n",
        "%matplotlib inline"
      ]
    },
    {
      "cell_type": "markdown",
      "metadata": {
        "id": "ULR4K7RHvsyZ",
        "nbgrader": {
          "grade": false,
          "grade_id": "cell-aef2ad8dc4d80056",
          "locked": true,
          "schema_version": 1,
          "solution": false
        }
      },
      "source": [
        "#### 1. (1 point) Explain, in your own words, how the cochlea detects and encodes the frequency and amplitude content of sound."
      ]
    },
    {
      "cell_type": "markdown",
      "metadata": {
        "id": "mSFG9s8WvsyZ",
        "nbgrader": {
          "grade": true,
          "grade_id": "question2",
          "locked": false,
          "points": 1,
          "schema_version": 1,
          "solution": true
        }
      },
      "source": [
        "The cochlea detects and encodes the frequency and amplitude content of sound by decomposing sound waves into signals that is understandable to our brain. Specifically our cochlea does this by breaking down complex sound waves into individual sine waves that represent frequencies we can understand. The inside of the cochlea contains the basilar membrane which has different parts which are sensitive to different frequencies, so stronger vibrations means louder frequencies (i.e. Amplitude encoding). The hairs on that membrance vibrate at different locations based on the sound and create electrical signals which encode to our brain nerves what sound is being made (i.e. Frequency)."
      ]
    },
    {
      "cell_type": "markdown",
      "metadata": {
        "id": "-cS540fLvsyY",
        "nbgrader": {
          "grade": false,
          "grade_id": "cell-c3422f6015430dd1",
          "locked": true,
          "schema_version": 1,
          "solution": false
        }
      },
      "source": [
        "#### 2. (1 point) Explain at a high, functional level (no need to do the math) how we do the following: (1) transduce audio with a dynamic microphone into voltage. Then, explain at a high, functional level, how we: (2) encode the voltages from a microphone into CD-quality PCM digital audio and (3) determine the frequency content of the audio. How do the steps of this process relate to the one you described for how the ear works?"
      ]
    },
    {
      "cell_type": "markdown",
      "metadata": {
        "id": "bXr7xct8vsyY",
        "nbgrader": {
          "grade": true,
          "grade_id": "question1",
          "locked": false,
          "points": 1,
          "schema_version": 1,
          "solution": true
        }
      },
      "source": [
        "We transduce audio with a dynamic microphone into voltage by using a diaphragm, which is a thin material inside the mic that moves when hit with sound and is attached to a coil of wire in a magnetic field. The coil is moved back and forth when sound hits it, creating a voltage the shape of sound wave and thus transduces the audio. This is similar to the movement of an eardrum that is repsonding to sound passing through your ear.\n",
        "\n",
        "We encode the voltages from a microphone into CD-quality PCM digital audio by measuring the voltages at regular time intervals, 44,100 Hz for a CD, and then quantize the measurements to the nearest number a computer can store, thus creating a stream encoded audio. This is similar to the nerves in your brain receiving signals from hairs in your basiliar membrane within the cochlea encoding sound into electrical signals.\n",
        "\n",
        "We finally determine the frequency content of the audio by using a Fourier transformer to break up the audio into its frequency components and determine each frequency present and its relative strength. This is similar to how different parts of the basilar membrance in the cochlea vibrate based on different frequencies, allowing for distinction between frequencies in sound."
      ]
    },
    {
      "cell_type": "markdown",
      "metadata": {
        "id": "XkRgEJXfvsyZ",
        "nbgrader": {
          "grade": false,
          "grade_id": "cell-c2836399876b50a5",
          "locked": true,
          "schema_version": 1,
          "solution": false
        }
      },
      "source": [
        "#### 3-A. (0.5 point)   The sample rate of telephone audio (8 kHz) and CD quality audio (44.1 kHz) are very different. Express in Hz the highest frequency sound you can represent (without aliasing) at each of these two sample rates. How do these frequencies compare to the highest frequency a typical human with no hearing loss can hear?"
      ]
    },
    {
      "cell_type": "markdown",
      "metadata": {
        "id": "gFhHAhBGvsya",
        "nbgrader": {
          "grade": true,
          "grade_id": "question3a",
          "locked": false,
          "points": 0.5,
          "schema_version": 1,
          "solution": true
        }
      },
      "source": [
        "At a sample rate of 8000 Hz, the highest frequency of sound that can be represented is, based on Nyquist frequency, half the sample rate, so 4000Hz. Similarly for CD quality audio, it is 22,050 Hz.\n",
        "\n",
        "The highest frequency a typical human with no hearing loss can hear is somewhere around 20,000 to 22,000 Hz based on class, so telephone audio is well below that while CD quality is right within that range."
      ]
    },
    {
      "cell_type": "markdown",
      "metadata": {
        "id": "lKBKBQVavsya",
        "nbgrader": {
          "grade": false,
          "grade_id": "cell-e2d703e5f385121a",
          "locked": true,
          "schema_version": 1,
          "solution": false
        }
      },
      "source": [
        "#### 3-B. (0.5 point) Sample rate isn't the only difference between CD and telephone audio. Express in dB the dynamic range (range of loud to soft) of 8 bit audio (telephone quality) and 16 bit audio (CD quality).  How many bits would one need to exceed the dynamic range of human hearing? Use the formula for voltage dB (i.e.   $20*log_{10}(X/X_{ref})$ )  Show your work.  (Hint: what is the difference between the smallest number you can represent in 8 bits and the largest number?)"
      ]
    },
    {
      "cell_type": "code",
      "execution_count": 6,
      "metadata": {
        "id": "WCwqmpqrvsya",
        "nbgrader": {
          "grade": false,
          "grade_id": "question3b_1",
          "locked": false,
          "schema_version": 1,
          "solution": true
        },
        "colab": {
          "base_uri": "https://localhost:8080/"
        },
        "outputId": "88bcced0-11b1-4016-8706-4d2250e114f5"
      },
      "outputs": [
        {
          "output_type": "stream",
          "name": "stdout",
          "text": [
            "48.16479930623699\n",
            "96.32959861247399\n",
            "48.16479930623699\n",
            "22.0\n"
          ]
        }
      ],
      "source": [
        "# assign your answers to these variables\n",
        "range8 = None\n",
        "range16 = None\n",
        "range_diff = None\n",
        "n_bits_human = None\n",
        "\n",
        "### BEGIN SOLUTION\n",
        "range8 = 20 * np.log10(2**8/1)\n",
        "range16 = 20 * np.log10(2**16/1)\n",
        "range_diff = range16 - range8\n",
        "# human --> 130 = 20 * log10(2 ** n) --> n = 130 / 20 * log10(2)\n",
        "n_bits_human = np.ceil(130 / (20 * np.log10(2)))\n",
        "\n",
        "print(range8)\n",
        "print(range16)\n",
        "print(range_diff)\n",
        "print(n_bits_human)\n",
        "### END SOLUTION"
      ]
    },
    {
      "cell_type": "markdown",
      "metadata": {
        "id": "7tru-uAevsyc",
        "nbgrader": {
          "grade": false,
          "grade_id": "cell-964e403dc5719b33",
          "locked": true,
          "schema_version": 1,
          "solution": false
        }
      },
      "source": [
        "#### 4. (1 point) Make a function to generate sinewaves.  Write a function to plot an audio signal and use it to display the generated sinewave. Label the figure's axes appropriately. Test the function for a simple case (e.g. a sinewave of frequency 10 Hz and length 1 sec, sampled at a rate of 100 Hz).\n"
      ]
    },
    {
      "cell_type": "code",
      "execution_count": 13,
      "metadata": {
        "id": "j_U8MdJNvsyd",
        "nbgrader": {
          "grade": false,
          "grade_id": "question4_0",
          "locked": false,
          "schema_version": 1,
          "solution": true
        }
      },
      "outputs": [],
      "source": [
        "def make_sinewave(f, t, sr):\n",
        "    \"\"\"\n",
        "    Parameters\n",
        "    ----------\n",
        "    f:  float\n",
        "        Frequency of sine wave in Hz\n",
        "    t:  float\n",
        "        Duration in seconds\n",
        "    sr: int\n",
        "        Sample rate\n",
        "\n",
        "    Returns\n",
        "    -------\n",
        "    np.ndarray\n",
        "        Array of floats containing the signal\n",
        "    \"\"\"\n",
        "\n",
        "    ### BEGIN SOLUTION\n",
        "    x_axis = np.linspace(0, t, t * sr, endpoint=False)\n",
        "    sine_wave = np.sin(2 * np.pi * f * x_axis)\n",
        "\n",
        "    return sine_wave\n",
        "    ### END SOLUTION"
      ]
    },
    {
      "cell_type": "code",
      "execution_count": 14,
      "metadata": {
        "id": "jDsLaY7uvsye",
        "nbgrader": {
          "grade": false,
          "grade_id": "question4_1",
          "locked": false,
          "schema_version": 1,
          "solution": true
        }
      },
      "outputs": [],
      "source": [
        "def plot_audio(x, sr, figsize=(16,4)):\n",
        "    \"\"\"\n",
        "    A simple audio plotting function\n",
        "\n",
        "    Parameters\n",
        "    ----------\n",
        "    x: np.ndarray\n",
        "        Audio signal to plot\n",
        "    sr: int\n",
        "        Sample rate\n",
        "    figsize: tuple\n",
        "        A duple representing the figure size (xdim,ydim)\n",
        "    \"\"\"\n",
        "\n",
        "    ### BEGIN SOLUTION\n",
        "    time_axis = np.arange(len(x)) / sr\n",
        "    plt.figure(figsize=figsize)\n",
        "    plt.plot(time_axis, x)\n",
        "    plt.xlabel(\"Time(s)\")\n",
        "    plt.ylabel(\"Amplitude\")\n",
        "    plt.title(\"Audio Signal Plotter\")\n",
        "    plt.show()\n",
        "    ### END SOLUTION"
      ]
    },
    {
      "cell_type": "code",
      "execution_count": 16,
      "metadata": {
        "id": "OlrI2vFCvsye",
        "nbgrader": {
          "grade": true,
          "grade_id": "question4_2",
          "locked": false,
          "points": 0.5,
          "schema_version": 1,
          "solution": true
        },
        "colab": {
          "base_uri": "https://localhost:8080/",
          "height": 410
        },
        "outputId": "8a25a918-338a-41ed-b77a-799decc471ac"
      },
      "outputs": [
        {
          "output_type": "display_data",
          "data": {
            "text/plain": [
              "<Figure size 1600x400 with 1 Axes>"
            ],
            "image/png": "[encoded data removed]"
          },
          "metadata": {}
        }
      ],
      "source": [
        "### BEGIN SOLUTION\n",
        "signal = make_sinewave(10, 1, 100)\n",
        "plot_audio(signal, 10)\n",
        "### END SOLUTION"
      ]
    },
    {
      "cell_type": "markdown",
      "metadata": {
        "id": "oxijhZ_tvsye",
        "nbgrader": {
          "grade": false,
          "grade_id": "cell-99e7130f6ac5be2d",
          "locked": true,
          "schema_version": 1,
          "solution": false
        }
      },
      "source": [
        "#### 5. (1 point) The case of the missing fundamental is where a sound seems to have a pitch that matches a fundamental frequency (also known as F0), but has no energy at this frequency.  Instead all the frequency is at integer multiples of F0 (integer multiples of F0 are called harmonics). Write code to build an audio example that illustrates the case of the missing fundamental. Set F0 to be one octave below Middle C on the piano: 131 Hz. Make the following signals using this F0.\n",
        "\n",
        "* sound 0: a harmonic sound with the first 10 harmonics (F0 through F9), where all harmonics have the same amplitude.\n",
        "\n",
        "* sound 1: a signal with only F1 through F9.  \n",
        "\n",
        "* sound 2: a signal with only odd harmonics (F1,F3,F5,F7,F9)\n",
        "\n",
        "* sound 3: a signal with harmonics F1, F2, F3, F5, and F7\n",
        "\n",
        "#### Which of these signals sounds to you like it has the same pitch as Signal 1. Which ones sound like they have a diffferent pitch? If a signal has a different pitch, what pitch (or pitches) do you hear?"
      ]
    },
    {
      "cell_type": "markdown",
      "metadata": {
        "id": "HRvTOyX0vsyf",
        "nbgrader": {
          "grade": true,
          "grade_id": "cell-ce3834d79f146663",
          "locked": false,
          "points": 0,
          "schema_version": 1,
          "solution": true
        }
      },
      "source": [
        "**Your answer goes here**"
      ]
    },
    {
      "cell_type": "code",
      "execution_count": null,
      "metadata": {
        "id": "lSIddU6pvsyf",
        "nbgrader": {
          "grade": true,
          "grade_id": "cell-d1d0593b28001144",
          "locked": false,
          "points": 1,
          "schema_version": 1,
          "solution": true
        }
      },
      "outputs": [],
      "source": [
        "\n",
        "### BEGIN SOLUTION\n",
        "# your code goes here\n",
        "### END SOLUTION\n",
        "\n",
        "# plot and play\n",
        "plot_audio(soundseries, sr)\n",
        "Audio(soundseries, rate=sr)"
      ]
    },
    {
      "cell_type": "markdown",
      "metadata": {
        "id": "tEz7qQ49vsyf",
        "nbgrader": {
          "grade": false,
          "grade_id": "cell-7a49e0eb00d61565",
          "locked": true,
          "schema_version": 1,
          "solution": false
        }
      },
      "source": [
        "#### 6. (1 point) Implement a simple function to express the Root Mean Squared Amplitude of a signal encoded as an array, in dB, with respect to a reference value (review the lecture on amplitude, slides no. 5-8)."
      ]
    },
    {
      "cell_type": "code",
      "execution_count": null,
      "metadata": {
        "id": "oxKmVb0Kvsyf",
        "nbgrader": {
          "grade": false,
          "grade_id": "cell-24106c113ebb198d",
          "locked": false,
          "schema_version": 1,
          "solution": true
        }
      },
      "outputs": [],
      "source": [
        "def rms_db(signal, reference):\n",
        "    '''\n",
        "    Parameters\n",
        "    ----------\n",
        "    signal:  np.ndarray\n",
        "        Array of floats containing the signal\n",
        "    reference:  float\n",
        "        A reference amplitude to compare to\n",
        "\n",
        "    Returns\n",
        "    -------\n",
        "    float\n",
        "        a value in dB, given the reference value\n",
        "    '''\n",
        "    ### BEGIN SOLUTION\n",
        "    # your code goes here\n",
        "    ### END SOLUTION"
      ]
    },
    {
      "cell_type": "markdown",
      "metadata": {
        "id": "yjVzD8cyvsyg",
        "nbgrader": {
          "grade": false,
          "grade_id": "cell-03bb68ff876c3335",
          "locked": true,
          "schema_version": 1,
          "solution": false
        }
      },
      "source": [
        "#### 7. (1 point) Masking is where one sine wave makes a softer sine wave of nearby frequency inaudible. In class, you learned that our frequency sensitivity is related to the log of the frequency. This means that a lower tone will mask a broader frequency range above it than it does below it. We're going to explore that in this problem.  Write code that does the following:\n",
        "1. Make a sine wave at 440 Hz.  \n",
        "1. Make a 2nd sine wave that is 30 dB softer and 430 Hz.\n",
        "1. Play them simultaneusly.\n",
        "1. Lower the frequency of the softer sine wave by 20 Hz.\n",
        "1. Play the lowered frequency signal concurrently with the 440 Hz one.\n",
        "1. Repeat the previous two steps.\n",
        "\n",
        "Now listen to the results. At what frequency does it become really obvious that there are two distinct, simultaneous sine waves?  Now try it the other direction.  Make the softer tone at 450 Hz and vary it upward (maybe take 40 Hz steps, in the upward direction) each time. Now at what frequency does the softer tone become obvious when the softer tone gets higher instead of lower?\n",
        "\n",
        "Do this experiment with decent headphones in a quiet room. Don't use your laptop speakers in a noisy place.   "
      ]
    },
    {
      "cell_type": "markdown",
      "metadata": {
        "id": "uZ-j_Lm_vsyg",
        "nbgrader": {
          "grade": true,
          "grade_id": "cell-ee725911844f7836",
          "locked": false,
          "points": 0.5,
          "schema_version": 1,
          "solution": true
        }
      },
      "source": [
        "**Your answer goes here**"
      ]
    },
    {
      "cell_type": "code",
      "execution_count": null,
      "metadata": {
        "id": "uQnlBqfGvsyh",
        "nbgrader": {
          "grade": true,
          "grade_id": "cell-2eef06abfe850633",
          "locked": false,
          "points": 0.5,
          "schema_version": 1,
          "solution": true
        }
      },
      "outputs": [],
      "source": [
        "### BEGIN SOLUTION\n",
        "# your code goes here\n",
        "### END SOLUTION\n",
        "plot_audio(soundseries,sr)\n",
        "Audio(soundseries, rate=sr)"
      ]
    },
    {
      "cell_type": "markdown",
      "metadata": {
        "id": "IToKF2ihvsyh",
        "nbgrader": {
          "grade": false,
          "grade_id": "cell-d70ffda0a62b7190",
          "locked": true,
          "schema_version": 1,
          "solution": false
        }
      },
      "source": [
        "## Using the Fourier transform"
      ]
    },
    {
      "cell_type": "markdown",
      "metadata": {
        "id": "C1oPWLevvsyh",
        "nbgrader": {
          "grade": false,
          "grade_id": "cell-9492fc13c4440536",
          "locked": true,
          "schema_version": 1,
          "solution": false
        }
      },
      "source": [
        "#### We're now going to look at using the Fourier transform to create representations for sound that let you analyze it and manipulate. The work you do in the following sections will be much easier if you use the fft and ifft functions from scipy.  See the following link for documentation on them.\n",
        "http://docs.scipy.org/doc/scipy/reference/tutorial/fftpack.html"
      ]
    },
    {
      "cell_type": "markdown",
      "metadata": {
        "id": "lgf2duDqvsyh",
        "nbgrader": {
          "grade": false,
          "grade_id": "cell-758cfc998009bae2",
          "locked": true,
          "schema_version": 1,
          "solution": false
        }
      },
      "source": [
        "#### 8. (one point) Let's look at a signal to see how the Fourier transform lets us understand it more easily. The choice of windowing function for your FFT is an important one. In this problem, we are going to investigate the effect of windowing on the spectra of sine waves. Write a function to compute and plot the log-magnitude spectrum of a signal. Your function must receive the number of samples as an input (there is an optional parameter in scipy's fft that lets you specify how many points the FFT has)."
      ]
    },
    {
      "cell_type": "code",
      "execution_count": null,
      "metadata": {
        "id": "sbBeJuWZvsyi",
        "nbgrader": {
          "grade": true,
          "grade_id": "cell-41a9c65c2ec42a0f",
          "locked": false,
          "points": 1,
          "schema_version": 1,
          "solution": true
        }
      },
      "outputs": [],
      "source": [
        "def audio_spectrum(sig, win_len, win_type, Nfft):\n",
        "    \"\"\"\n",
        "    Computes the spectrum of an audio signal\n",
        "\n",
        "    Parameters\n",
        "    ----------\n",
        "    sig: np.ndarray\n",
        "        Audio signal\n",
        "    win_len: int\n",
        "        Length of the signal for spectrum computation (in samples)\n",
        "    win_type: string\n",
        "        Determines the window type including 'rectangular' and 'hann'\n",
        "    Nfft: int\n",
        "        Number of frequency-domain samples\n",
        "\n",
        "   Returns\n",
        "    -------\n",
        "    a numpy array of the magnitude (absolute value) log spectrum.\n",
        "\n",
        "    \"\"\"\n",
        "    ### BEGIN SOLUTION\n",
        "    # your code goes here\n",
        "    ### END SOLUTION"
      ]
    },
    {
      "cell_type": "markdown",
      "metadata": {
        "id": "opRSVE2Xvsyj"
      },
      "source": [
        "#### 9. (1 point) Make an audio signal composed of 2 sine waves at 100 and 250 Hz. The sample rate should be 1000 Hz. Now compute the spectrum of the signal using a rectangular window of length 64 samples. In this part we set the number of FFT points to the same value as the window length. Then compute the spectrum using a a Hann window (from scipy.signal). Plot both spectra on the same axis. Compare the two plots. Be sure to label the frequency dimension correctly (horizontal = frequency in Hz) with the correct units. Be sure to label your two lines so we can tell which is which."
      ]
    },
    {
      "cell_type": "code",
      "execution_count": null,
      "metadata": {
        "id": "3Ria4o_9vsyk",
        "nbgrader": {
          "grade": true,
          "grade_id": "cell-1e84601afd3f9e64",
          "locked": false,
          "points": 1,
          "schema_version": 1,
          "solution": true
        }
      },
      "outputs": [],
      "source": [
        "### BEGIN SOLUTION\n",
        "# your code goes here\n",
        "### END SOLUTION"
      ]
    },
    {
      "cell_type": "markdown",
      "metadata": {
        "id": "_uYpxGL3vsyl",
        "nbgrader": {
          "grade": false,
          "grade_id": "cell-85137b817a701a09",
          "locked": true,
          "schema_version": 1,
          "solution": false
        }
      },
      "source": [
        "#### 10. (1 point) Which  windowing approach from the previous question gives a more accurate visualization of the signal contents, windowing the signal with a rectangular window or with a Hann window?  What is the underlying reason?"
      ]
    },
    {
      "cell_type": "markdown",
      "metadata": {
        "id": "L4Pzs9Oivsyl",
        "nbgrader": {
          "grade": true,
          "grade_id": "cell-d582636880de083b",
          "locked": false,
          "points": 1,
          "schema_version": 1,
          "solution": true
        }
      },
      "source": [
        "**Your answer goes here**\n"
      ]
    },
    {
      "cell_type": "markdown",
      "metadata": {
        "id": "Lfy0fUavvsyl",
        "nbgrader": {
          "grade": false,
          "grade_id": "cell-41fda9f6ca7c7e84",
          "locked": true,
          "schema_version": 1,
          "solution": false
        }
      },
      "source": [
        "#### 11. (1 point)  When you calculate a FFT with more points than are in the signal, zeros are added to the input signal and interpolation is performed on the output signal. In general, zero-padding in the time domain is equivalent to creating new analysis bins in between original bins in the frequency domain. This often gives us a more accurate view of the frequency content in the signal.  We're going to do that here. Do everything exactly like you did in question 9....except increase the number of FFT points (Nfft) to 256. Note...keep the window length win_len the same, just vary Nfft.\n",
        "\n",
        "(aside: You can read more about the effect of zero-padding in the time domain  [here](http://www.dsprelated.com/freebooks/sasp/Zero_Padding_Time_Domain.html) and in the frequency domain [here](http://dspguru.com/dsp/howtos/how-to-interpolate-in-time-domain-by-zero-padding-in-frequency-domain))\n",
        "\n",
        "#### What are some of differences you notice in this plot compared to the previous one?\n",
        "\n"
      ]
    },
    {
      "cell_type": "markdown",
      "metadata": {
        "id": "zRkhBPFXvsyl",
        "nbgrader": {
          "grade": true,
          "grade_id": "cell-aa32c264ce5505db",
          "locked": false,
          "points": 0.25,
          "schema_version": 1,
          "solution": true
        }
      },
      "source": [
        "**Your answer goes here**\n"
      ]
    },
    {
      "cell_type": "code",
      "execution_count": null,
      "metadata": {
        "id": "ZzfwY8Qpvsyl",
        "nbgrader": {
          "grade": true,
          "grade_id": "cell-d3034b89329619e7",
          "locked": false,
          "points": 0.75,
          "schema_version": 1,
          "solution": true
        }
      },
      "outputs": [],
      "source": [
        "### BEGIN SOLUTION\n",
        "# your code goes here\n",
        "### END SOLUTION\n",
        "\n"
      ]
    },
    {
      "cell_type": "markdown",
      "metadata": {
        "id": "zm0kOqC1vsym",
        "nbgrader": {
          "grade": false,
          "grade_id": "cell-427c8d094969f86b",
          "locked": true,
          "schema_version": 1,
          "solution": false
        }
      },
      "source": [
        "#### 12. (1 point). What is the pitch (in Hz) of the lowest note played by an in-tune piano using equal temperment tuned at A440? What is the pitch (in Hz) of the highest note? Now, given these numbers, assume you're recording at 44100 Hz (CD quality audio). Give a window length (in samples) so that the spacing between frequencies of analysis of a fast Fourier transform (the fft function you call to make the spectrogram) results in a lowest (non-zero) frequency of analysis that is low enough to capture the lowest note on the piano.  Remember, the lowest non-zero frequency of analysis is going to be equal to the spacing between the frequencies of analysis."
      ]
    },
    {
      "cell_type": "code",
      "execution_count": null,
      "metadata": {
        "id": "A6lWocu8vsym",
        "nbgrader": {
          "grade": false,
          "grade_id": "cell-ba19fa2989085d98",
          "locked": false,
          "schema_version": 1,
          "solution": true
        }
      },
      "outputs": [],
      "source": [
        "window_length = None\n",
        "### BEGIN SOLUTION\n",
        "# your code goes here\n",
        "### END SOLUTION"
      ]
    },
    {
      "cell_type": "markdown",
      "metadata": {
        "id": "P3qltBqivsyn",
        "nbgrader": {
          "grade": false,
          "grade_id": "cell-3316127d101f083f",
          "locked": true,
          "schema_version": 1,
          "solution": false
        }
      },
      "source": [
        "#### 13. (2 points) Make a short term Fourier transform (STFT) function. Use the fft and hann functions from scipy. Do not use any preexisting STFT function."
      ]
    },
    {
      "cell_type": "code",
      "execution_count": null,
      "metadata": {
        "id": "3xW_hHxuvsyn",
        "nbgrader": {
          "grade": true,
          "grade_id": "cell-5ae0d1451120468b",
          "locked": false,
          "points": 2,
          "schema_version": 1,
          "solution": true
        }
      },
      "outputs": [],
      "source": [
        "from scipy.fftpack import fft\n",
        "from scipy.signal import hann\n",
        "\n",
        "def stft(signal, window_size, hop_size, window_type = 'hann'):\n",
        "    \"\"\"\n",
        "    Computes the short term fourier transform of a 1-D numpy array, where the array\n",
        "    is windowed into a set of subarrays, each of length window_size. The distance between\n",
        "    window centers (in samples) is given by hop_size. The type of window applied is\n",
        "    determined by window_type. This returns a 2-D numpy array where the ith column\n",
        "    is the FFT of the ith window. Each column contains an array of complex values.\n",
        "\n",
        "    Input Parameters\n",
        "    ----------------\n",
        "    signal: The 1-d (complex or real) numpy array containing the signal\n",
        "    window_size: an integer scalar specifying the number of samples in a window\n",
        "    hop_size: an integer specifying the number of samples between the start of adjacent windows\n",
        "    window_type: a string specifying one of two \"hann\" or \"rectangular\"\n",
        "\n",
        "    Returns\n",
        "    -------\n",
        "    a 2D numpy array of complex numbers where the array column is the FFT of the ith window,\n",
        "    and the jth element in the ith column is the jth frequency of analysis.\n",
        "    \"\"\"\n",
        "    ### BEGIN SOLUTION\n",
        "    # your code goes here\n",
        "    ### END SOLUTION"
      ]
    },
    {
      "cell_type": "markdown",
      "metadata": {
        "id": "f0ykDF04vsyn",
        "nbgrader": {
          "grade": false,
          "grade_id": "cell-c9c7a50974477a41",
          "locked": true,
          "schema_version": 1,
          "solution": false
        }
      },
      "source": [
        "#### 14. (2 points) Make an inverse STFT function to rebuild the original audio signal, using overlap & add resynthesis. You don't need to use a window function here.\n",
        "\n",
        "Note: we are not using a synthesis window for this exercise. However, keep in mind that in general it's recommended to weight the inverse Fourier transform of each frame by the same window function used for generating the spectrogram at each step of overlap & add (a.k.a. weighted overlap & add). The synthesis window helps reducing the effect of impulsive noise caused by modifying the audio spectrogram.\n",
        "\n",
        "See also https://ccrma.stanford.edu/~jos/sasp/Weighted_Overlap_Add.html"
      ]
    },
    {
      "cell_type": "code",
      "execution_count": null,
      "metadata": {
        "id": "k2SdH_aMvsyn",
        "nbgrader": {
          "grade": true,
          "grade_id": "cell-0b7c3c0a5f2f7fb6",
          "locked": false,
          "points": 2,
          "schema_version": 1,
          "solution": true
        }
      },
      "outputs": [],
      "source": [
        "from scipy.fftpack import ifft\n",
        "\n",
        "def istft(X, hop_size):\n",
        "    \"\"\"\n",
        "    Takes a 2-D numpy array representing an STFT of some signal, where stft[i]\n",
        "    is the FFT of the ith window as input and stft[i,k] is the kth frequency of analysis.\n",
        "    Performs an inverse FFT on each window and then does overlap & add resynthesis to rebuild\n",
        "    the original signal the STFT was built from.\n",
        "\n",
        "    Input Parameters\n",
        "    ----------------\n",
        "    X: a 2-D numpy array of complex numbers representing an STFT, where the ith\n",
        "    column is the FFT of the ith window, and the jth row is the jth frequency of analysis.\n",
        "\n",
        "    hop_size: an integer specifying the number of samples between the start of adjacent windows.\n",
        "\n",
        "    Returns\n",
        "    -------\n",
        "    a 1-d numpy array of (possibly complex) values representing the original signal used to make X\n",
        "    \"\"\"\n",
        "    ### BEGIN SOLUTION\n",
        "    # your code goes here\n",
        "    ### END SOLUTION"
      ]
    },
    {
      "cell_type": "markdown",
      "metadata": {
        "id": "Ki57YBcFvsyo",
        "nbgrader": {
          "grade": false,
          "grade_id": "cell-874947e7aac0ccad",
          "locked": true,
          "schema_version": 1,
          "solution": false
        }
      },
      "source": [
        "#### 15. (2 points) Write a test to show that your code in 13 and 14 works. One obvious thing that comes to mind is  performing the STFT on a sound, performing the inverse STFT and then measuring the difference between the original signal and the one that went through the STFT and inverse STFT. Being more specific I'd do something like this...\n",
        "\n",
        "1. Make a signal you understand (e.g. a sinewave or two)\n",
        "1. For each signal $s$, run it through stft and then istft, to generate a reconstruction $s'$\n",
        "1. Measure the sum of squared errors (sse) between s and s' as follows $ sse = \\sum_{n=1}^{N} (s(n)-s'(n))^2$\n",
        "1. Plot it (ie plot both your $s$ and $s'$) to see the differences\n",
        "\n",
        "<i>HINTS:\n",
        "\n",
        "* The istft returns an array of complex values. As long as the imaginary component of all these values is really close to 0, you're fine. Just take the real portion of the numbers and use those.\n",
        "\n",
        "* To numerically measure your reconstruction error, pick a rectangular window and a hop_size = window_size.\n",
        "\n",
        "* If doing stft and then istft ends up making a signal a TOUCH shorter (i.e. the length of a hop, as measured in samples), that's OK. No more than that.\n",
        "\n",
        "* If you make your hop size 1/2 your window size and pick the Hann window, you should see a little reconstruction error at the very beginning and the very end, but other than that, it should be perfect.  Try the Hann window with a hop size = window size and see how that looks.\n",
        "\n",
        "* If you use rectangular windows with a hop size 1/2 your window size, signal reconstruction should be fine the very beginning and very end, but 2x louder throughout the middle.. Try the rectangular window with a hop size = window size and see how that looks.  \n",
        "</i>\n",
        "\n",
        "\n",
        "\n"
      ]
    },
    {
      "cell_type": "markdown",
      "metadata": {
        "id": "cKCGIQDVvsyo",
        "nbgrader": {
          "grade": true,
          "grade_id": "cell-87a25e645209fbcd",
          "locked": false,
          "points": 0,
          "schema_version": 1,
          "solution": true
        }
      },
      "source": [
        "**Your results & analysis go here**\n"
      ]
    },
    {
      "cell_type": "code",
      "execution_count": null,
      "metadata": {
        "id": "u5Tk65cwvsyo",
        "nbgrader": {
          "grade": true,
          "grade_id": "cell-fb45f5e092aabca4",
          "locked": false,
          "points": 2,
          "schema_version": 1,
          "solution": true
        }
      },
      "outputs": [],
      "source": [
        "### BEGIN SOLUTION\n",
        "# your code goes here\n",
        "### END SOLUTION\n"
      ]
    },
    {
      "cell_type": "markdown",
      "metadata": {
        "id": "UKq8SamMvsyo",
        "nbgrader": {
          "grade": false,
          "grade_id": "cell-77a252091254c115",
          "locked": true,
          "schema_version": 1,
          "solution": false
        }
      },
      "source": [
        "#### 16. (2 points) Write a function to display a magnitude spectrogram of an audio signal. Magnitude must be in dB. Correct frequencies must be displayed. Display only frequencies up to the Nyquist rate.  Time must be displayed in seconds. Frequency needs to be on the vertical dimension. Time must be on the horizontal dimension. Magnitude must be encoded by color/brightness. You cannot use any functions in librosa or Torch Audio to do this.  \n",
        "\n",
        "#### In the 2nd code box (below), write a little test to display your spectrogram working. Make sure to COMMENT your code to explain what you're testing and why. Commenting is crucial here. You don't get full points for uncommented code.\n",
        "\n",
        "<i>HINTS\n",
        "* You may need to rotate your axes to get the visual results that we are looking for. Experiment with np.fliplr or np.rot90.\n",
        "    \n",
        "* To plot things, I used plt.pcolor and plot.colorbar.\n",
        "\n",
        "* For visuzualization, it is often helpful to use the Hann window, instead of the rectangular one. It typically makes it easier to see the frequency content\n",
        "\n",
        "</i>"
      ]
    },
    {
      "cell_type": "code",
      "execution_count": null,
      "metadata": {
        "id": "iTSXY3oqvsyo",
        "nbgrader": {
          "grade": true,
          "grade_id": "cell-717ee73c3e871aa0",
          "locked": false,
          "points": 0,
          "schema_version": 1,
          "solution": true
        }
      },
      "outputs": [],
      "source": [
        "def spectrogram(signal, window_size, hop_size, sample_rate, window_type = 'hann', display = 1 ):\n",
        "    \"\"\"\n",
        "    Computes the short term fourier transform of a 1-D numpy array, where the array\n",
        "    is windowed into a set of subarrays, each of length window_size. The distance between\n",
        "    window centers (in samples) is given by hop_size. The type of window applied is\n",
        "    determined by window_type. This creates a 2-D numpy array where the ith column\n",
        "    is the FFT of the ith window. Each column contains an array of complex values.\n",
        "    It then creates a magnitude spectrogram of the signal and plots it on the screen.\n",
        "    Here, the vertical dimension is frequency (in Hz), the horizontal dimension is time\n",
        "    (in seconds), brightness corresponds to amplitude (in dB). Only frequencies up to\n",
        "    the Nyquist rate are displayed.\n",
        "\n",
        "    Input Parameters\n",
        "    ----------------\n",
        "    signal: The 1-d (complex or real) numpy array containing the signal\n",
        "    window_size: an integer scalar specifying the number of samples in a window\n",
        "    hop_size: an integer specifying the number of samples between the start of adjacent windows\n",
        "    sample_rate: an integer giving the sample rate of the input signal, in Hz\n",
        "    window_type: a string specifying one of two \"hann\" or \"rectangular\"\n",
        "    display: an integer. If set to 1, it plots the spectrogram. Else it does not.\n",
        "\n",
        "    Returns\n",
        "    -------\n",
        "    an output tuple with 3 items\n",
        "\n",
        "    sgram:  a 2-D numpy array of real-valued numbers that contains the magnitude spectrogram\n",
        "           sgram[t,f] is the magnitude at time t and frequency f. This only contains values\n",
        "           up to the nyquist frequency\n",
        "    times: a 1-D numpy array of non-negative real-values that gives the times,\n",
        "           times[t] gives the start time of the tth window in seconds\n",
        "    freqs: a 1-D numpy array  of non-negative real values. freqs[f] gives the fth\n",
        "           frequency of analysis in Hz, up to the nyquist frequency\n",
        "\n",
        "    Calling Example\n",
        "    ---------------\n",
        "    sgram,times,freqs = spectrogram(signal, window_size, hop_size, sample_rate )\n",
        "\n",
        "    \"\"\"\n",
        "    ### BEGIN SOLUTION\n",
        "    ### END SOLUTION"
      ]
    },
    {
      "cell_type": "code",
      "execution_count": null,
      "metadata": {
        "id": "cVMzQHOvvsyo",
        "nbgrader": {
          "grade": true,
          "grade_id": "cell-8f0cd2fcbda34637",
          "locked": false,
          "points": 2,
          "schema_version": 1,
          "solution": true
        }
      },
      "outputs": [],
      "source": [
        "# The test case goes here\n",
        "### BEGIN SOLUTION\n",
        "# your code goes here\n",
        "### END SOLUTION"
      ]
    }
  ],
  "metadata": {
    "anaconda-cloud": {},
    "celltoolbar": "Create Assignment",
    "colab": {
      "provenance": [],
      "include_colab_link": true
    },
    "kernelspec": {
      "display_name": "Python 3",
      "language": "python",
      "name": "python3"
    },
    "language_info": {
      "codemirror_mode": {
        "name": "ipython",
        "version": 3
      },
      "file_extension": ".py",
      "mimetype": "text/x-python",
      "name": "python",
      "nbconvert_exporter": "python",
      "pygments_lexer": "ipython3",
      "version": "3.7.1"
    }
  },
  "nbformat": 4,
  "nbformat_minor": 0
}